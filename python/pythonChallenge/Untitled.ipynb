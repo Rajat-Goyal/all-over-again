{
 "cells": [
  {
   "cell_type": "code",
   "execution_count": 49,
   "metadata": {},
   "outputs": [
    {
     "data": {
      "text/plain": [
       "274877906944"
      ]
     },
     "execution_count": 49,
     "metadata": {},
     "output_type": "execute_result"
    }
   ],
   "source": [
    "#challenge 0\n",
    "2**38 "
   ]
  },
  {
   "cell_type": "code",
   "execution_count": 48,
   "metadata": {},
   "outputs": [],
   "source": [
    "#challege 1"
   ]
  },
  {
   "cell_type": "code",
   "execution_count": 44,
   "metadata": {},
   "outputs": [],
   "source": [
    "import string\n",
    "table = { ord(x): ord(chr(((ord(x)-ord('a')+2)%26)+97)) for x in string.ascii_lowercase }"
   ]
  },
  {
   "cell_type": "code",
   "execution_count": 25,
   "metadata": {
    "collapsed": true
   },
   "outputs": [],
   "source": [
    "inp = \"g fmnc wms bgblr rpylqjyrc gr zw fylb. rfyrq ufyr amknsrcpq ypc dmp. bmgle gr gl zw fylb gq glcddgagclr ylb rfyr'q ufw rfgq rcvr gq qm jmle. sqgle qrpgle.kyicrpylq() gq pcamkkclbcb. lmu ynnjw ml rfc spj.\""
   ]
  },
  {
   "cell_type": "code",
   "execution_count": 45,
   "metadata": {},
   "outputs": [
    {
     "data": {
      "text/plain": [
       "\"i hope you didnt translate it by hand. thats what computers are for. doing it in by hand is inefficient and that's why this text is so long. using string.maketrans() is recommended. now apply on the url.\""
      ]
     },
     "execution_count": 45,
     "metadata": {},
     "output_type": "execute_result"
    }
   ],
   "source": [
    "inp.translate(table)"
   ]
  },
  {
   "cell_type": "code",
   "execution_count": 46,
   "metadata": {},
   "outputs": [
    {
     "data": {
      "text/plain": [
       "'ocr'"
      ]
     },
     "execution_count": 46,
     "metadata": {},
     "output_type": "execute_result"
    }
   ],
   "source": [
    "\"map\".translate(table)"
   ]
  },
  {
   "cell_type": "code",
   "execution_count": null,
   "metadata": {
    "collapsed": true
   },
   "outputs": [],
   "source": [
    "#challenge 4"
   ]
  },
  {
   "cell_type": "code",
   "execution_count": 95,
   "metadata": {
    "collapsed": true
   },
   "outputs": [
    {
     "name": "stdout",
     "output_type": "stream",
     "text": [
      "and the next nothing is 37278====> 141\n",
      "37278\n",
      "and the next nothing is 53548====> 142\n",
      "53548\n",
      "and the next nothing is 66081====> 143\n",
      "66081\n",
      "and the next nothing is 67753====> 144\n",
      "67753\n",
      "and the next nothing is 56337====> 145\n",
      "56337\n",
      "and the next nothing is 3356====> 146\n",
      "3356\n",
      "and the next nothing is 94525====> 147\n",
      "94525\n",
      "and the next nothing is 89574====> 148\n",
      "89574\n",
      "and the next nothing is 4413====> 149\n",
      "4413\n",
      "and the next nothing is 82294====> 150\n",
      "82294\n",
      "and the next nothing is 56060====> 151\n",
      "56060\n",
      "and the next nothing is 95493====> 152\n",
      "95493\n",
      "and the next nothing is 80865====> 153\n",
      "80865\n",
      "and the next nothing is 66242====> 154\n",
      "66242\n",
      "and the next nothing is 16065====> 155\n",
      "16065\n",
      "and the next nothing is 62145====> 156\n",
      "62145\n",
      "and the next nothing is 23147====> 157\n",
      "23147\n",
      "and the next nothing is 83763====> 158\n",
      "83763\n",
      "and the next nothing is 62381====> 159\n",
      "62381\n",
      "and the next nothing is 76841====> 160\n",
      "76841\n",
      "and the next nothing is 91706====> 161\n",
      "91706\n",
      "and the next nothing is 9268====> 162\n",
      "9268\n",
      "and the next nothing is 64814====> 163\n",
      "64814\n",
      "and the next nothing is 80809====> 164\n",
      "80809\n",
      "and the next nothing is 14039====> 165\n",
      "14039\n",
      "and the next nothing is 73355====> 166\n",
      "73355\n",
      "and the next nothing is 81905====> 167\n",
      "81905\n",
      "and the next nothing is 36402====> 168\n",
      "36402\n",
      "and the next nothing is 27221====> 169\n",
      "27221\n",
      "and the next nothing is 79607====> 170\n",
      "79607\n",
      "and the next nothing is 91763====> 171\n",
      "91763\n",
      "and the next nothing is 11631====> 172\n",
      "11631\n",
      "and the next nothing is 76396====> 173\n",
      "76396\n",
      "and the next nothing is 69905====> 174\n",
      "69905\n",
      "and the next nothing is 11073====> 175\n",
      "11073\n",
      "and the next nothing is 71281====> 176\n",
      "71281\n",
      "and the next nothing is 54345====> 177\n",
      "54345\n",
      "and the next nothing is 19047====> 178\n",
      "19047\n",
      "and the next nothing is 34376====> 179\n",
      "34376\n",
      "and the next nothing is 3193====> 180\n",
      "3193\n",
      "and the next nothing is 74258====> 181\n",
      "74258\n",
      "and the next nothing is 62712====> 182\n",
      "62712\n",
      "and the next nothing is 1823====> 183\n",
      "1823\n",
      "and the next nothing is 21232====> 184\n",
      "21232\n",
      "and the next nothing is 87890====> 185\n",
      "87890\n",
      "and the next nothing is 21545====> 186\n",
      "21545\n",
      "and the next nothing is 37136====> 187\n",
      "37136\n",
      "and the next nothing is 23060====> 188\n",
      "23060\n",
      "and the next nothing is 5385====> 189\n",
      "5385\n",
      "and the next nothing is 4620====> 190\n",
      "4620\n",
      "and the next nothing is 39111====> 191\n",
      "39111\n",
      "and the next nothing is 35914====> 192\n",
      "35914\n",
      "and the next nothing is 60310====> 193\n",
      "60310\n",
      "and the next nothing is 19178====> 194\n",
      "19178\n",
      "and the next nothing is 44671====> 195\n",
      "44671\n",
      "and the next nothing is 45736====> 196\n",
      "45736\n",
      "and the next nothing is 9216====> 197\n",
      "9216\n",
      "and the next nothing is 12585====> 198\n",
      "12585\n",
      "and the next nothing is 11302====> 199\n",
      "11302\n",
      "and the next nothing is 33096====> 200\n",
      "33096\n",
      "and the next nothing is 13967====> 201\n",
      "13967\n",
      "and the next nothing is 57004====> 202\n",
      "57004\n",
      "and the next nothing is 64196====> 203\n",
      "64196\n",
      "and the next nothing is 73929====> 204\n",
      "73929\n",
      "and the next nothing is 24800====> 205\n",
      "24800\n",
      "and the next nothing is 25081====> 206\n",
      "25081\n",
      "and the next nothing is 90033====> 207\n",
      "90033\n",
      "and the next nothing is 45919====> 208\n",
      "45919\n",
      "and the next nothing is 54827====> 209\n",
      "54827\n",
      "and the next nothing is 73950====> 210\n",
      "73950\n",
      "and the next nothing is 56978====> 211\n",
      "56978\n",
      "and the next nothing is 8133====> 212\n",
      "8133\n",
      "and the next nothing is 61900====> 213\n",
      "61900\n",
      "and the next nothing is 47769====> 214\n",
      "47769\n",
      "and the next nothing is 631====> 215\n",
      "631\n",
      "and the next nothing is 2284====> 216\n",
      "2284\n",
      "and the next nothing is 60074====> 217\n",
      "60074\n",
      "and the next nothing is 35959====> 218\n",
      "35959\n",
      "and the next nothing is 57158====> 219\n",
      "57158\n",
      "and the next nothing is 90990====> 220\n",
      "90990\n",
      "and the next nothing is 27935====> 221\n",
      "27935\n",
      "and the next nothing is 99927====> 222\n",
      "99927\n",
      "and the next nothing is 41785====> 223\n",
      "41785\n",
      "and the next nothing is 32660====> 224\n",
      "32660\n",
      "and the next nothing is 4328====> 225\n",
      "4328\n",
      "and the next nothing is 42067====> 226\n",
      "42067\n",
      "and the next nothing is 8743====> 227\n",
      "8743\n",
      "and the next nothing is 38613====> 228\n",
      "38613\n",
      "and the next nothing is 21100====> 229\n",
      "21100\n",
      "and the next nothing is 77864====> 230\n",
      "77864\n",
      "and the next nothing is 6523====> 231\n",
      "6523\n",
      "and the next nothing is 6927====> 232\n",
      "6927\n",
      "and the next nothing is 82930====> 233\n",
      "82930\n",
      "and the next nothing is 35846====> 234\n",
      "35846\n",
      "and the next nothing is 31785====> 235\n",
      "31785\n",
      "and the next nothing is 41846====> 236\n",
      "41846\n",
      "and the next nothing is 72387====> 237\n",
      "72387\n",
      "and the next nothing is 59334====> 238\n",
      "59334\n",
      "and the next nothing is 65520====> 239\n",
      "65520\n",
      "and the next nothing is 93781====> 240\n",
      "93781\n",
      "and the next nothing is 55840====> 241\n",
      "55840\n",
      "and the next nothing is 80842====> 242\n",
      "80842\n",
      "and the next nothing is 59022====> 243\n",
      "59022\n",
      "and the next nothing is 23298====> 244\n",
      "23298\n",
      "and the next nothing is 27709====> 245\n",
      "27709\n",
      "and the next nothing is 96791====> 246\n",
      "96791\n",
      "and the next nothing is 75635====> 247\n",
      "75635\n",
      "and the next nothing is 52899====> 248\n",
      "52899\n",
      "and the next nothing is 66831====> 249\n",
      "66831\n",
      "peak.html====> 250\n"
     ]
    },
    {
     "ename": "IndexError",
     "evalue": "list index out of range",
     "output_type": "error",
     "traceback": [
      "\u001b[0;31m---------------------------------------------------------------------------\u001b[0m",
      "\u001b[0;31mIndexError\u001b[0m                                Traceback (most recent call last)",
      "\u001b[0;32m<ipython-input-95-9851ed75323c>\u001b[0m in \u001b[0;36m<module>\u001b[0;34m()\u001b[0m\n\u001b[1;32m      8\u001b[0m     \u001b[0mres\u001b[0m \u001b[0;34m=\u001b[0m \u001b[0mres\u001b[0m\u001b[0;34m.\u001b[0m\u001b[0mdecode\u001b[0m\u001b[0;34m(\u001b[0m\u001b[0;34m'utf-8'\u001b[0m\u001b[0;34m)\u001b[0m\u001b[0;34m\u001b[0m\u001b[0m\n\u001b[1;32m      9\u001b[0m     \u001b[0mprint\u001b[0m \u001b[0;34m(\u001b[0m\u001b[0mres\u001b[0m \u001b[0;34m+\u001b[0m \u001b[0;34m\"====>\"\u001b[0m\u001b[0;34m,\u001b[0m \u001b[0mi\u001b[0m\u001b[0;34m)\u001b[0m\u001b[0;34m\u001b[0m\u001b[0m\n\u001b[0;32m---> 10\u001b[0;31m     \u001b[0mnxt\u001b[0m \u001b[0;34m=\u001b[0m \u001b[0mre\u001b[0m\u001b[0;34m.\u001b[0m\u001b[0mfindall\u001b[0m\u001b[0;34m(\u001b[0m\u001b[0mregex\u001b[0m\u001b[0;34m,\u001b[0m \u001b[0mres\u001b[0m\u001b[0;34m)\u001b[0m\u001b[0;34m[\u001b[0m\u001b[0;36m0\u001b[0m\u001b[0;34m]\u001b[0m\u001b[0;34m\u001b[0m\u001b[0m\n\u001b[0m\u001b[1;32m     11\u001b[0m     \u001b[0mprint\u001b[0m \u001b[0;34m(\u001b[0m\u001b[0mnxt\u001b[0m\u001b[0;34m)\u001b[0m\u001b[0;34m\u001b[0m\u001b[0m\n\u001b[1;32m     12\u001b[0m \u001b[0;34m\u001b[0m\u001b[0m\n",
      "\u001b[0;31mIndexError\u001b[0m: list index out of range"
     ]
    }
   ],
   "source": [
    "import urllib.request\n",
    "import re\n",
    "regex = r\"\\w+[0-9]+\\w\"\n",
    "\n",
    "nxt = \"63579\"\n",
    "for i in range(141,410):\n",
    "    res = urllib.request.urlopen(\"http://www.pythonchallenge.com/pc/def/linkedlist.php?nothing=\" + nxt).read()\n",
    "    res = res.decode('utf-8')\n",
    "    print (res + \"====>\", i)\n",
    "    nxt = re.findall(regex, res)[0]\n",
    "    print (nxt)\n",
    "\n",
    "   "
   ]
  },
  {
   "cell_type": "code",
   "execution_count": 101,
   "metadata": {
    "collapsed": true
   },
   "outputs": [],
   "source": [
    "#challenge 5 \n",
    "import pickle "
   ]
  },
  {
   "cell_type": "code",
   "execution_count": 127,
   "metadata": {},
   "outputs": [],
   "source": [
    "dat = pickle.load(open(\"banner.p\", \"rb\"))"
   ]
  },
  {
   "cell_type": "code",
   "execution_count": 142,
   "metadata": {},
   "outputs": [
    {
     "name": "stdout",
     "output_type": "stream",
     "text": [
      "                                                                                               \n",
      "              #####                                                                      ##### \n",
      "               ####                                                                       #### \n",
      "               ####                                                                       #### \n",
      "               ####                                                                       #### \n",
      "               ####                                                                       #### \n",
      "               ####                                                                       #### \n",
      "               ####                                                                       #### \n",
      "               ####                                                                       #### \n",
      "      ###      ####   ###         ###       #####   ###    #####   ###          ###       #### \n",
      "   ###   ##    #### #######     ##  ###      #### #######   #### #######     ###  ###     #### \n",
      "  ###     ###  #####    ####   ###   ####    #####    ####  #####    ####   ###     ###   #### \n",
      " ###           ####     ####   ###    ###    ####     ####  ####     ####  ###      ####  #### \n",
      " ###           ####     ####          ###    ####     ####  ####     ####  ###       ###  #### \n",
      "####           ####     ####     ##   ###    ####     ####  ####     #### ####       ###  #### \n",
      "####           ####     ####   ##########    ####     ####  ####     #### ##############  #### \n",
      "####           ####     ####  ###    ####    ####     ####  ####     #### ####            #### \n",
      "####           ####     #### ####     ###    ####     ####  ####     #### ####            #### \n",
      " ###           ####     #### ####     ###    ####     ####  ####     ####  ###            #### \n",
      "  ###      ##  ####     ####  ###    ####    ####     ####  ####     ####   ###      ##   #### \n",
      "   ###    ##   ####     ####   ###########   ####     ####  ####     ####    ###    ##    #### \n",
      "      ###     ######    #####    ##    #### ######    ###########    #####      ###      ######\n",
      "                                                                                               \n"
     ]
    }
   ],
   "source": [
    "for x in range(len(dat)):\n",
    "    for tup in dat[x]:\n",
    "        print (tup[0]*tup[1], end='')\n",
    "    print()"
   ]
  }
 ],
 "metadata": {
  "kernelspec": {
   "display_name": "Python 3",
   "language": "python",
   "name": "python3"
  },
  "language_info": {
   "codemirror_mode": {
    "name": "ipython",
    "version": 3
   },
   "file_extension": ".py",
   "mimetype": "text/x-python",
   "name": "python",
   "nbconvert_exporter": "python",
   "pygments_lexer": "ipython3",
   "version": "3.6.1"
  }
 },
 "nbformat": 4,
 "nbformat_minor": 2
}
