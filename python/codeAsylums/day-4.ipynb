{
 "cells": [
  {
   "cell_type": "code",
   "execution_count": null,
   "metadata": {
    "collapsed": true
   },
   "outputs": [],
   "source": [
    "# DAy - 4 \n",
    "# classes \n"
   ]
  },
  {
   "cell_type": "code",
   "execution_count": 3,
   "metadata": {
    "collapsed": true
   },
   "outputs": [],
   "source": [
    "class Sample:\n",
    "    a = 1\n",
    "    def __init__(self, a):\n",
    "        self.a = a\n",
    "    \n",
    "    @property\n",
    "    def b(self):\n",
    "        foo = self.a + \"Arun\"\n",
    "        return foo\n"
   ]
  },
  {
   "cell_type": "code",
   "execution_count": 4,
   "metadata": {
    "collapsed": true
   },
   "outputs": [],
   "source": [
    "sample_obj = Sample(\"My name is : \")"
   ]
  },
  {
   "cell_type": "code",
   "execution_count": 5,
   "metadata": {},
   "outputs": [
    {
     "data": {
      "text/plain": [
       "'My name is : '"
      ]
     },
     "execution_count": 5,
     "metadata": {},
     "output_type": "execute_result"
    }
   ],
   "source": [
    "sample_obj.a"
   ]
  },
  {
   "cell_type": "code",
   "execution_count": 7,
   "metadata": {},
   "outputs": [
    {
     "data": {
      "text/plain": [
       "'My name is : Arun'"
      ]
     },
     "execution_count": 7,
     "metadata": {},
     "output_type": "execute_result"
    }
   ],
   "source": [
    "sample_obj.b"
   ]
  },
  {
   "cell_type": "code",
   "execution_count": 6,
   "metadata": {},
   "outputs": [
    {
     "data": {
      "text/plain": [
       "1"
      ]
     },
     "execution_count": 6,
     "metadata": {},
     "output_type": "execute_result"
    }
   ],
   "source": [
    "Sample.a"
   ]
  },
  {
   "cell_type": "code",
   "execution_count": 17,
   "metadata": {
    "collapsed": true
   },
   "outputs": [],
   "source": [
    "class Student:\n",
    "    def __init__(self, name, age, marks):\n",
    "#         print(dir(self))\n",
    "        self.name = name\n",
    "        self.age = age \n",
    "        self.marks = marks\n",
    "    \n",
    "    @property\n",
    "    def grade(self):\n",
    "#         print(dir(self))\n",
    "        if self.marks <= 20:\n",
    "            grade = \"D\"\n",
    "        elif self.marks <= 50:\n",
    "            grade = \"C\"\n",
    "        elif self.marks <= 70: \n",
    "            grade = \"B\"\n",
    "        else:\n",
    "            grade = \"A\"\n",
    "        return grade\n",
    "    "
   ]
  },
  {
   "cell_type": "code",
   "execution_count": 18,
   "metadata": {
    "collapsed": true
   },
   "outputs": [],
   "source": [
    "myself = Student(\"Rajat\", 22, 89)"
   ]
  },
  {
   "cell_type": "code",
   "execution_count": 19,
   "metadata": {},
   "outputs": [
    {
     "data": {
      "text/plain": [
       "'A'"
      ]
     },
     "execution_count": 19,
     "metadata": {},
     "output_type": "execute_result"
    }
   ],
   "source": [
    "myself.grade"
   ]
  },
  {
   "cell_type": "code",
   "execution_count": 51,
   "metadata": {
    "collapsed": true
   },
   "outputs": [],
   "source": [
    "class Student:\n",
    "    def __init__(self, name, age, marks):\n",
    "#         print(dir(self))\n",
    "        self.name = name\n",
    "        self.age = age \n",
    "        self.marks = marks\n",
    "    \n",
    "    @property\n",
    "    def b():\n",
    "        pass\n",
    "    \n",
    "    @b.setter\n",
    "    def b(self,val1, val2):\n",
    "        self.foo = val1\n",
    "        self.foo2 = val2\n",
    "    \n",
    "    @b.getter\n",
    "    def b(self):\n",
    "        return self.foo\n",
    "    "
   ]
  },
  {
   "cell_type": "code",
   "execution_count": 52,
   "metadata": {
    "collapsed": true
   },
   "outputs": [],
   "source": [
    "sample_obj = Student(\"rajat\", 22, 222)"
   ]
  },
  {
   "cell_type": "code",
   "execution_count": 60,
   "metadata": {
    "collapsed": true
   },
   "outputs": [],
   "source": [
    "sample_obj.b?"
   ]
  },
  {
   "cell_type": "code",
   "execution_count": 22,
   "metadata": {
    "collapsed": true
   },
   "outputs": [],
   "source": [
    "super?"
   ]
  },
  {
   "cell_type": "code",
   "execution_count": 33,
   "metadata": {
    "collapsed": true
   },
   "outputs": [],
   "source": [
    "class Baseclass: \n",
    "    def __init__(self, arg):\n",
    "        self.abcd = arg"
   ]
  },
  {
   "cell_type": "code",
   "execution_count": 38,
   "metadata": {
    "collapsed": true
   },
   "outputs": [],
   "source": [
    "class Student(Baseclass):\n",
    "    def __init__(self, name, age, marks):\n",
    "#         print(dir(self))\n",
    "        Baseclass.__init__(self, name)\n",
    "        self.name = name\n",
    "        self.age = age \n",
    "        self.marks = marks\n",
    "    \n",
    "    @property\n",
    "    def b():\n",
    "        pass\n",
    "    \n",
    "    @b.setter\n",
    "    def b(self,val):\n",
    "        self.foo = val \n",
    "    \n",
    "    @b.getter\n",
    "    def b(self):\n",
    "        return self.foo\n",
    "    "
   ]
  },
  {
   "cell_type": "code",
   "execution_count": 39,
   "metadata": {
    "collapsed": true
   },
   "outputs": [],
   "source": [
    "derieobj = Student(\"Rajatt\", 22, 222)"
   ]
  },
  {
   "cell_type": "code",
   "execution_count": 40,
   "metadata": {},
   "outputs": [
    {
     "data": {
      "text/plain": [
       "'Rajatt'"
      ]
     },
     "execution_count": 40,
     "metadata": {},
     "output_type": "execute_result"
    }
   ],
   "source": [
    "derieobj.abcd"
   ]
  },
  {
   "cell_type": "code",
   "execution_count": 41,
   "metadata": {},
   "outputs": [
    {
     "data": {
      "text/plain": [
       "'Rajatt'"
      ]
     },
     "execution_count": 41,
     "metadata": {},
     "output_type": "execute_result"
    }
   ],
   "source": [
    "derieobj.name"
   ]
  },
  {
   "cell_type": "code",
   "execution_count": 48,
   "metadata": {},
   "outputs": [
    {
     "data": {
      "text/plain": [
       "False"
      ]
     },
     "execution_count": 48,
     "metadata": {},
     "output_type": "execute_result"
    }
   ],
   "source": [
    "isinstance(sample_obj,Student)"
   ]
  }
 ],
 "metadata": {
  "kernelspec": {
   "display_name": "Python 3",
   "language": "python",
   "name": "python3"
  },
  "language_info": {
   "codemirror_mode": {
    "name": "ipython",
    "version": 3
   },
   "file_extension": ".py",
   "mimetype": "text/x-python",
   "name": "python",
   "nbconvert_exporter": "python",
   "pygments_lexer": "ipython3",
   "version": "3.6.1"
  }
 },
 "nbformat": 4,
 "nbformat_minor": 2
}
